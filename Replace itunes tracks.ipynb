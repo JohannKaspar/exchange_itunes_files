{
 "cells": [
  {
   "cell_type": "markdown",
   "id": "25d141d2-b8d9-4bba-b148-37935043a18f",
   "metadata": {},
   "source": [
    "# iTunes file exchange\n",
    "This is a script for replacing music files in your iTunes library with new files e.g. higher bitrate without changing ID3 tags\n",
    "\n",
    "Please update the directories according to your system:"
   ]
  },
  {
   "cell_type": "code",
   "execution_count": 48,
   "id": "47c5cb19-6aa8-4e59-ada5-aff395ce89e2",
   "metadata": {},
   "outputs": [],
   "source": [
    "new_files_dir = \"/Users/johannkaspar/Downloads/replace_tracks\"\n",
    "itunes_library_xml = '/Users/johannkaspar/Desktop/Mediathek_2022_08_13_13_00.xml'"
   ]
  },
  {
   "cell_type": "code",
   "execution_count": 1,
   "id": "e3d372a8-b7af-4a18-955d-ee4e9913e590",
   "metadata": {},
   "outputs": [],
   "source": [
    "import urllib.parse\n",
    "import eyed3\n",
    "import xml.etree.ElementTree as ET\n",
    "import os\n",
    "import shutil\n",
    "import pandas as pd"
   ]
  },
  {
   "cell_type": "code",
   "execution_count": 59,
   "id": "57c0ce90-d560-494f-94f6-1ead21ba8af4",
   "metadata": {},
   "outputs": [],
   "source": [
    "pd.set_option('display.max_rows', 100)\n",
    "pd.options.display.max_colwidth = 150"
   ]
  },
  {
   "cell_type": "code",
   "execution_count": 4,
   "id": "5e52938f-241a-42d9-a842-ff974ab67def",
   "metadata": {},
   "outputs": [],
   "source": [
    "def xml_to_dict(elements):\n",
    "    elements_dict = dict()\n",
    "    for i in range(len(elements) // 2):\n",
    "        elements_dict[elements[i*2].text] = elements[i*2+1].text\n",
    "    return elements_dict"
   ]
  },
  {
   "cell_type": "code",
   "execution_count": 70,
   "id": "d63ef29f-33ed-4781-89d3-65b7b0c16706",
   "metadata": {
    "tags": []
   },
   "outputs": [
    {
     "name": "stderr",
     "output_type": "stream",
     "text": [
      "Invalid date: 0312\n",
      "Invalid date: 0207\n",
      "Invalid date: 0308\n"
     ]
    }
   ],
   "source": [
    "# This block creates a DataFrame of all new files meant to replace older ones and their location\n",
    "\n",
    "file_df = pd.DataFrame(columns=[\"title\", \"album_artist\", \"location\"])\n",
    "\n",
    "for file in os.listdir(new_files_dir):\n",
    "    if file.endswith(\".mp3\"):\n",
    "        location = new_files_dir + \"/\" + file\n",
    "        audiofile = eyed3.load(location)\n",
    "        file_df.loc[len(file_df)] = [audiofile.tag.title, audiofile.tag.album_artist, location]\n"
   ]
  },
  {
   "cell_type": "code",
   "execution_count": 71,
   "id": "528c32f6-2d1d-47f7-b370-b7e3f2ee913b",
   "metadata": {},
   "outputs": [
    {
     "name": "stderr",
     "output_type": "stream",
     "text": [
      "Invalid date: 0308\n",
      "Invalid date: 0308\n",
      "Invalid date: 0207\n",
      "Invalid date: 0207\n"
     ]
    },
    {
     "name": "stdout",
     "output_type": "stream",
     "text": [
      "moving f/Users/johannkaspar/Downloads/replace_tracks/Bicep - Glue.mp3 to /Volumes/SSD/iTunes/iTunes Media/Music/Bicep/Bicep/02 Glue.mp3\n",
      "moving f/Users/johannkaspar/Downloads/replace_tracks/x club. - Scum 3 -03.mp3 to /Volumes/SSD/iTunes/iTunes Media/Music/X CLUB_/Scum/01 Scum 3 -03.mp3\n"
     ]
    },
    {
     "name": "stderr",
     "output_type": "stream",
     "text": [
      "Invalid date: 0312\n",
      "Invalid date: 0312\n"
     ]
    },
    {
     "name": "stdout",
     "output_type": "stream",
     "text": [
      "moving f/Users/johannkaspar/Downloads/replace_tracks/Tic Tac Toe - Isch liebe disch.mp3 to /Volumes/SSD/iTunes/iTunes Media/Music/Tic Tac Toe/Ist der Ruf erst ruiniert .._/1-11 Isch liebe disch.mp3\n",
      "moving f/Users/johannkaspar/Downloads/replace_tracks/МЕХАНИЧЕСКИЙ ПЁС - Greta Speech 0.1.mp3 to /Volumes/SSD/iTunes/iTunes Media/Music/МЕХАНИЧЕСКИЙ ПЁС/GRETA/1-02 Greta Speech 0.1.mp3\n"
     ]
    }
   ],
   "source": [
    "# This block scans the iTunes XML for tracks with a matching title as in the file_df,\n",
    "# then checks if artists overlap, if so it copies the ID3 tags from old to new and replaces old by new\n",
    "\n",
    "\n",
    "root = ET.parse(itunes_library_xml).getroot()\n",
    "\n",
    "for i, element in enumerate(root.findall('dict/dict/dict')):\n",
    "    elements_dict = xml_to_dict(element)\n",
    "\n",
    "    title = elements_dict[\"Name\"]\n",
    "    itunes_location = urllib.parse.unquote(elements_dict[\"Location\"]).split(\"file://\")[1]\n",
    "\n",
    "\n",
    "    if title in file_df[\"title\"].to_list():\n",
    "\n",
    "        file_info = file_df.loc[file_df.title == title]\n",
    "        downloads_location = file_info.location.values[0]\n",
    "            \n",
    "        audiofile_old = eyed3.load(itunes_location)\n",
    "        audiofile_new = eyed3.load(downloads_location)\n",
    "\n",
    "        artist_list = urllib.parse.unquote(audiofile_new.tag.artist).split(\"\\x00\")\n",
    "        for _artist in artist_list:\n",
    "            if _artist in audiofile_old.tag.artist:\n",
    "                audiofile_new.tag = audiofile_old.tag\n",
    "                audiofile_new.tag.save()\n",
    "                print(f\"moving f{downloads_location} to {itunes_location}\")\n",
    "                shutil.move(downloads_location, itunes_location)\n",
    "                file_df = file_df.drop(file_info.index[0])\n",
    "                break"
   ]
  },
  {
   "cell_type": "markdown",
   "id": "58a2b4b9-289c-45c5-a99c-bc3b4fb3ee31",
   "metadata": {},
   "source": [
    "The DataFrame below shows all files that haven't been copied. These ones have to be curated manually."
   ]
  },
  {
   "cell_type": "code",
   "execution_count": 72,
   "id": "9edd223d-cabc-4970-a397-be4535921169",
   "metadata": {},
   "outputs": [
    {
     "data": {
      "text/html": [
       "<div>\n",
       "<style scoped>\n",
       "    .dataframe tbody tr th:only-of-type {\n",
       "        vertical-align: middle;\n",
       "    }\n",
       "\n",
       "    .dataframe tbody tr th {\n",
       "        vertical-align: top;\n",
       "    }\n",
       "\n",
       "    .dataframe thead th {\n",
       "        text-align: right;\n",
       "    }\n",
       "</style>\n",
       "<table border=\"1\" class=\"dataframe\">\n",
       "  <thead>\n",
       "    <tr style=\"text-align: right;\">\n",
       "      <th></th>\n",
       "      <th>title</th>\n",
       "      <th>album_artist</th>\n",
       "      <th>location</th>\n",
       "    </tr>\n",
       "  </thead>\n",
       "  <tbody>\n",
       "    <tr>\n",
       "      <th>1</th>\n",
       "      <td>Stage One (Space Manoeuvre's Separation Mix)</td>\n",
       "      <td>Space Manoeuvres</td>\n",
       "      <td>/Users/johannkaspar/Downloads/replace_tracks/Space Manoeuvres - Stage One (Space Manoeuvre's Separation Mix).mp3</td>\n",
       "    </tr>\n",
       "  </tbody>\n",
       "</table>\n",
       "</div>"
      ],
      "text/plain": [
       "                                          title      album_artist  \\\n",
       "1  Stage One (Space Manoeuvre's Separation Mix)  Space Manoeuvres   \n",
       "\n",
       "                                                                                                           location  \n",
       "1  /Users/johannkaspar/Downloads/replace_tracks/Space Manoeuvres - Stage One (Space Manoeuvre's Separation Mix).mp3  "
      ]
     },
     "execution_count": 72,
     "metadata": {},
     "output_type": "execute_result"
    }
   ],
   "source": [
    "file_df"
   ]
  },
  {
   "cell_type": "code",
   "execution_count": 73,
   "id": "1caac164-8b6a-4d49-83d0-1f1df70d3db0",
   "metadata": {},
   "outputs": [
    {
     "data": {
      "text/plain": [
       "'/Volumes/SSD/iTunes/iTunes Media/Music/Space Manoeuvres/Oid/1-02 Stage One (Seperation Mix).mp3'"
      ]
     },
     "execution_count": 73,
     "metadata": {},
     "output_type": "execute_result"
    }
   ],
   "source": [
    "itunes_location = \"/Volumes/SSD/iTunes/iTunes Media/Music/Space Manoeuvres/Oid/1-02 Stage One (Seperation Mix).mp3\"\n",
    "downloads_location = \"/Users/johannkaspar/Downloads/replace_tracks/Space Manoeuvres - Stage One (Space Manoeuvre's Separation Mix).mp3\"\n",
    "\n",
    "audiofile_old = eyed3.load(itunes_location)\n",
    "audiofile_new = eyed3.load(downloads_location)\n",
    "\n",
    "audiofile_new.tag = audiofile_old.tag\n",
    "audiofile_new.tag.save()\n",
    "    \n",
    "shutil.move(downloads_location, itunes_location)"
   ]
  }
 ],
 "metadata": {
  "kernelspec": {
   "display_name": "Python 3 (ipykernel)",
   "language": "python",
   "name": "python3"
  },
  "language_info": {
   "codemirror_mode": {
    "name": "ipython",
    "version": 3
   },
   "file_extension": ".py",
   "mimetype": "text/x-python",
   "name": "python",
   "nbconvert_exporter": "python",
   "pygments_lexer": "ipython3",
   "version": "3.8.6"
  }
 },
 "nbformat": 4,
 "nbformat_minor": 5
}
